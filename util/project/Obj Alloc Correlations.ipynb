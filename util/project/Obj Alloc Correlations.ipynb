{
 "cells": [
  {
   "cell_type": "code",
   "execution_count": 1,
   "id": "7a8370b2",
   "metadata": {},
   "outputs": [
    {
     "data": {
      "text/plain": [
       "polars.config.Config"
      ]
     },
     "execution_count": 1,
     "metadata": {},
     "output_type": "execute_result"
    }
   ],
   "source": [
    "import polars as pl\n",
    "import numpy as np\n",
    "from tqdm.auto import tqdm, trange\n",
    "import glob\n",
    "import altair as alt\n",
    "import vegafusion as vf\n",
    "vf.enable(row_limit=100000)\n",
    "pl.Config.set_fmt_str_lengths(100)"
   ]
  },
  {
   "cell_type": "code",
   "execution_count": 2,
   "id": "84c41318",
   "metadata": {},
   "outputs": [],
   "source": [
    "BASE_DIR = '/home/as8319/meng_project_traces/simpoints/spec2006/xalancbmk/0/input/m5out'"
   ]
  },
  {
   "cell_type": "code",
   "execution_count": 3,
   "id": "90389565",
   "metadata": {},
   "outputs": [
    {
     "data": {
      "application/vnd.jupyter.widget-view+json": {
       "model_id": "6384722d28f7414082b732bcad43ef63",
       "version_major": 2,
       "version_minor": 0
      },
      "text/plain": [
       "  0%|          | 0/11 [00:00<?, ?it/s]"
      ]
     },
     "metadata": {},
     "output_type": "display_data"
    }
   ],
   "source": [
    "def build_dataset(path):\n",
    "    # Read simpoint files\n",
    "    with open(f'{path}/simpoint_weights.txt', 'r') as weights_file, \\\n",
    "        open(f'{path}/simpoints.txt', 'r') as intervals_file:\n",
    "\n",
    "        lines = weights_file.readlines()\n",
    "        \n",
    "        intervals = np.empty(len(lines))\n",
    "        weights   = np.empty(len(lines))\n",
    "        \n",
    "        for line in lines:\n",
    "            weight, idx = line.split(' ')\n",
    "            weights[int(idx)] = float(weight)\n",
    "\n",
    "        lines = intervals_file.readlines()\n",
    "        for line in lines:\n",
    "            interval, idx = line.split(' ')\n",
    "            intervals[int(idx)] = int(interval)\n",
    "    \n",
    "    # read dfs\n",
    "    dfs = []\n",
    "    for df_idx in trange(len(intervals)):\n",
    "        dfs.append(pl.read_parquet(f'{path}/trace_{df_idx}.parquet'))\n",
    "    \n",
    "    # Sort by simpoint intervals\n",
    "    # Traces are saved and labeled in order of their occurence\n",
    "    # i.e. trace_0 corresponds to the lowest interval\n",
    "    sort_idxs = np.argsort(intervals)\n",
    "    for df_idx, simpoint_idx in enumerate(sort_idxs):\n",
    "        dfs[df_idx] = dfs[df_idx].with_columns([\n",
    "            pl.lit(weights[simpoint_idx]).alias('simpoint_weight'), \n",
    "            pl.lit(df_idx).alias('checkpoint')\n",
    "        ])\n",
    "    \n",
    "    return pl.concat(dfs)\n",
    "\n",
    "df = build_dataset(BASE_DIR)"
   ]
  },
  {
   "cell_type": "code",
   "execution_count": 4,
   "id": "3d9428bb",
   "metadata": {},
   "outputs": [
    {
     "data": {
      "text/html": [
       "<div><style>\n",
       ".dataframe > thead > tr > th,\n",
       ".dataframe > tbody > tr > td {\n",
       "  text-align: right;\n",
       "}\n",
       "</style>\n",
       "<small>shape: (1, 1)</small><table border=\"1\" class=\"dataframe\"><thead><tr><th>tick</th></tr><tr><td>u32</td></tr></thead><tbody><tr><td>23464214</td></tr></tbody></table></div>"
      ],
      "text/plain": [
       "shape: (1, 1)\n",
       "┌──────────┐\n",
       "│ tick     │\n",
       "│ ---      │\n",
       "│ u32      │\n",
       "╞══════════╡\n",
       "│ 23464214 │\n",
       "└──────────┘"
      ]
     },
     "execution_count": 4,
     "metadata": {},
     "output_type": "execute_result"
    }
   ],
   "source": [
    "df.select(pl.col('tick').count())"
   ]
  },
  {
   "cell_type": "code",
   "execution_count": 5,
   "id": "0cb83e82",
   "metadata": {},
   "outputs": [
    {
     "data": {
      "text/html": [
       "<div><style>\n",
       ".dataframe > thead > tr > th,\n",
       ".dataframe > tbody > tr > td {\n",
       "  text-align: right;\n",
       "}\n",
       "</style>\n",
       "<small>shape: (3, 20)</small><table border=\"1\" class=\"dataframe\"><thead><tr><th>tick</th><th>disassembly</th><th>inst_addr</th><th>inst_rel_addr</th><th>pred_addr</th><th>pred_rel_addr</th><th>jump_addr</th><th>jump_rel_addr</th><th>pred_taken</th><th>mispredicted</th><th>ras</th><th>regs</th><th>virtual</th><th>return</th><th>call</th><th>taken</th><th>ras_rel</th><th>alloc_context</th><th>simpoint_weight</th><th>checkpoint</th></tr><tr><td>u64</td><td>str</td><td>u64</td><td>str</td><td>u64</td><td>str</td><td>u64</td><td>str</td><td>bool</td><td>bool</td><td>list[u64]</td><td>struct[15]</td><td>bool</td><td>bool</td><td>bool</td><td>bool</td><td>list[str]</td><td>u64</td><td>f64</td><td>i32</td></tr></thead><tbody><tr><td>95581813000</td><td>&quot;  b.ne   &lt;_ZN10xalanc_1_818XalanDOMStringPool3getEPKtj+904&gt;&quot;</td><td>7281408</td><td>&quot;_ZN10xalanc_1_818XalanDOMStringPool3getEPKtj+378&quot;</td><td>7281412</td><td>&quot;_ZN10xalanc_1_818XalanDOMStringPool3getEPKtj+37c&quot;</td><td>7281412</td><td>&quot;_ZN10xalanc_1_818XalanDOMStringPool3getEPKtj+37c&quot;</td><td>false</td><td>false</td><td>[5716856, 5736944, … 7040004]</td><td>{7829800,8021792,4294967295,10,7857352,8023800,19422108405268556,19422108405268556,104,8035696,62,31,8021810,8035680,46}</td><td>false</td><td>false</td><td>false</td><td>false</td><td>[&quot;_ZN10xalanc_1_829XalanSourceTreeContentHandler12startElementEPKtS2_S2_RKN11xercesc_2_510AttributesE+42c&quot;, &quot;_ZN11xercesc_2_517SAX2XMLReaderImpl12startElementERKNS_14XMLElementDeclEjPKtRKNS_11RefVectorOfINS_7XMLAttrEEEjbb+7b8&quot;, … &quot;_ZN11xercesc_2_512IGXMLScanner12scanDocumentERKNS_11InputSourceE+390&quot;]</td><td>0</td><td>0.0015163</td><td>0</td></tr><tr><td>95581813000</td><td>&quot;  cbnz   x14, &lt;_ZN10xalanc_1_818XalanDOMStringPool3getEPKtj+872&gt;&quot;</td><td>7281412</td><td>&quot;_ZN10xalanc_1_818XalanDOMStringPool3getEPKtj+37c&quot;</td><td>7281392</td><td>&quot;_ZN10xalanc_1_818XalanDOMStringPool3getEPKtj+368&quot;</td><td>7281392</td><td>&quot;_ZN10xalanc_1_818XalanDOMStringPool3getEPKtj+368&quot;</td><td>true</td><td>false</td><td>[5716856, 5736944, … 7040004]</td><td>{7829800,8021792,4294967295,10,7857352,8023800,19422108405268556,19422108405268556,104,8035696,62,31,8021810,8035680,46}</td><td>false</td><td>false</td><td>false</td><td>true</td><td>[&quot;_ZN10xalanc_1_829XalanSourceTreeContentHandler12startElementEPKtS2_S2_RKN11xercesc_2_510AttributesE+42c&quot;, &quot;_ZN11xercesc_2_517SAX2XMLReaderImpl12startElementERKNS_14XMLElementDeclEjPKtRKNS_11RefVectorOfINS_7XMLAttrEEEjbb+7b8&quot;, … &quot;_ZN11xercesc_2_512IGXMLScanner12scanDocumentERKNS_11InputSourceE+390&quot;]</td><td>0</td><td>0.0015163</td><td>0</td></tr><tr><td>95581814000</td><td>&quot;  b.ne   &lt;_ZN10xalanc_1_818XalanDOMStringPool3getEPKtj+904&gt;&quot;</td><td>7281408</td><td>&quot;_ZN10xalanc_1_818XalanDOMStringPool3getEPKtj+378&quot;</td><td>7281412</td><td>&quot;_ZN10xalanc_1_818XalanDOMStringPool3getEPKtj+37c&quot;</td><td>7281412</td><td>&quot;_ZN10xalanc_1_818XalanDOMStringPool3getEPKtj+37c&quot;</td><td>false</td><td>false</td><td>[5716856, 5736944, … 7040004]</td><td>{7829800,8021792,4294967295,10,7857352,8023800,19422108405268556,19422108405268556,104,8035696,62,31,8021814,8035680,42}</td><td>false</td><td>false</td><td>false</td><td>false</td><td>[&quot;_ZN10xalanc_1_829XalanSourceTreeContentHandler12startElementEPKtS2_S2_RKN11xercesc_2_510AttributesE+42c&quot;, &quot;_ZN11xercesc_2_517SAX2XMLReaderImpl12startElementERKNS_14XMLElementDeclEjPKtRKNS_11RefVectorOfINS_7XMLAttrEEEjbb+7b8&quot;, … &quot;_ZN11xercesc_2_512IGXMLScanner12scanDocumentERKNS_11InputSourceE+390&quot;]</td><td>0</td><td>0.0015163</td><td>0</td></tr></tbody></table></div>"
      ],
      "text/plain": [
       "shape: (3, 20)\n",
       "┌───────────┬───────────┬─────────┬────────────┬───┬──────────┬────────────┬────────────┬──────────┐\n",
       "│ tick      ┆ disassemb ┆ inst_ad ┆ inst_rel_a ┆ … ┆ ras_rel  ┆ alloc_cont ┆ simpoint_w ┆ checkpoi │\n",
       "│ ---       ┆ ly        ┆ dr      ┆ ddr        ┆   ┆ ---      ┆ ext        ┆ eight      ┆ nt       │\n",
       "│ u64       ┆ ---       ┆ ---     ┆ ---        ┆   ┆ list[str ┆ ---        ┆ ---        ┆ ---      │\n",
       "│           ┆ str       ┆ u64     ┆ str        ┆   ┆ ]        ┆ u64        ┆ f64        ┆ i32      │\n",
       "╞═══════════╪═══════════╪═════════╪════════════╪═══╪══════════╪════════════╪════════════╪══════════╡\n",
       "│ 955818130 ┆ b.ne      ┆ 7281408 ┆ _ZN10xalan ┆ … ┆ [\"_ZN10x ┆ 0          ┆ 0.0015163  ┆ 0        │\n",
       "│ 00        ┆ <_ZN10xal ┆         ┆ c_1_818Xal ┆   ┆ alanc_1_ ┆            ┆            ┆          │\n",
       "│           ┆ anc_1_818 ┆         ┆ anDOMStrin ┆   ┆ 829Xalan ┆            ┆            ┆          │\n",
       "│           ┆ XalanDOMS ┆         ┆ gPool3getE ┆   ┆ SourceTr ┆            ┆            ┆          │\n",
       "│           ┆ tringPool ┆         ┆ PKtj+378   ┆   ┆ eeConten ┆            ┆            ┆          │\n",
       "│           ┆ 3getEPKtj ┆         ┆            ┆   ┆ tHandler ┆            ┆            ┆          │\n",
       "│           ┆ +904>     ┆         ┆            ┆   ┆ 12startE ┆            ┆            ┆          │\n",
       "│           ┆           ┆         ┆            ┆   ┆ lementEP ┆            ┆            ┆          │\n",
       "│           ┆           ┆         ┆            ┆   ┆ KtS2_S2_ ┆            ┆            ┆          │\n",
       "│           ┆           ┆         ┆            ┆   ┆ RKN11xer ┆            ┆            ┆          │\n",
       "│           ┆           ┆         ┆            ┆   ┆ cesc_2_5 ┆            ┆            ┆          │\n",
       "│           ┆           ┆         ┆            ┆   ┆ 10Attrib ┆            ┆            ┆          │\n",
       "│           ┆           ┆         ┆            ┆   ┆ utes…    ┆            ┆            ┆          │\n",
       "│ 955818130 ┆ cbnz      ┆ 7281412 ┆ _ZN10xalan ┆ … ┆ [\"_ZN10x ┆ 0          ┆ 0.0015163  ┆ 0        │\n",
       "│ 00        ┆ x14, <_ZN ┆         ┆ c_1_818Xal ┆   ┆ alanc_1_ ┆            ┆            ┆          │\n",
       "│           ┆ 10xalanc_ ┆         ┆ anDOMStrin ┆   ┆ 829Xalan ┆            ┆            ┆          │\n",
       "│           ┆ 1_818Xala ┆         ┆ gPool3getE ┆   ┆ SourceTr ┆            ┆            ┆          │\n",
       "│           ┆ nDOMStrin ┆         ┆ PKtj+37c   ┆   ┆ eeConten ┆            ┆            ┆          │\n",
       "│           ┆ gPool3get ┆         ┆            ┆   ┆ tHandler ┆            ┆            ┆          │\n",
       "│           ┆ EPKtj+872 ┆         ┆            ┆   ┆ 12startE ┆            ┆            ┆          │\n",
       "│           ┆ >         ┆         ┆            ┆   ┆ lementEP ┆            ┆            ┆          │\n",
       "│           ┆           ┆         ┆            ┆   ┆ KtS2_S2_ ┆            ┆            ┆          │\n",
       "│           ┆           ┆         ┆            ┆   ┆ RKN11xer ┆            ┆            ┆          │\n",
       "│           ┆           ┆         ┆            ┆   ┆ cesc_2_5 ┆            ┆            ┆          │\n",
       "│           ┆           ┆         ┆            ┆   ┆ 10Attrib ┆            ┆            ┆          │\n",
       "│           ┆           ┆         ┆            ┆   ┆ utes…    ┆            ┆            ┆          │\n",
       "│ 955818140 ┆ b.ne      ┆ 7281408 ┆ _ZN10xalan ┆ … ┆ [\"_ZN10x ┆ 0          ┆ 0.0015163  ┆ 0        │\n",
       "│ 00        ┆ <_ZN10xal ┆         ┆ c_1_818Xal ┆   ┆ alanc_1_ ┆            ┆            ┆          │\n",
       "│           ┆ anc_1_818 ┆         ┆ anDOMStrin ┆   ┆ 829Xalan ┆            ┆            ┆          │\n",
       "│           ┆ XalanDOMS ┆         ┆ gPool3getE ┆   ┆ SourceTr ┆            ┆            ┆          │\n",
       "│           ┆ tringPool ┆         ┆ PKtj+378   ┆   ┆ eeConten ┆            ┆            ┆          │\n",
       "│           ┆ 3getEPKtj ┆         ┆            ┆   ┆ tHandler ┆            ┆            ┆          │\n",
       "│           ┆ +904>     ┆         ┆            ┆   ┆ 12startE ┆            ┆            ┆          │\n",
       "│           ┆           ┆         ┆            ┆   ┆ lementEP ┆            ┆            ┆          │\n",
       "│           ┆           ┆         ┆            ┆   ┆ KtS2_S2_ ┆            ┆            ┆          │\n",
       "│           ┆           ┆         ┆            ┆   ┆ RKN11xer ┆            ┆            ┆          │\n",
       "│           ┆           ┆         ┆            ┆   ┆ cesc_2_5 ┆            ┆            ┆          │\n",
       "│           ┆           ┆         ┆            ┆   ┆ 10Attrib ┆            ┆            ┆          │\n",
       "│           ┆           ┆         ┆            ┆   ┆ utes…    ┆            ┆            ┆          │\n",
       "└───────────┴───────────┴─────────┴────────────┴───┴──────────┴────────────┴────────────┴──────────┘"
      ]
     },
     "execution_count": 5,
     "metadata": {},
     "output_type": "execute_result"
    }
   ],
   "source": [
    "df.head(3)"
   ]
  },
  {
   "cell_type": "code",
   "execution_count": 6,
   "id": "757daa52",
   "metadata": {},
   "outputs": [
    {
     "data": {
      "text/html": [
       "<div><style>\n",
       ".dataframe > thead > tr > th,\n",
       ".dataframe > tbody > tr > td {\n",
       "  text-align: right;\n",
       "}\n",
       "</style>\n",
       "<small>shape: (1, 1)</small><table border=\"1\" class=\"dataframe\"><thead><tr><th>mispredicted</th></tr><tr><td>f64</td></tr></thead><tbody><tr><td>0.042561</td></tr></tbody></table></div>"
      ],
      "text/plain": [
       "shape: (1, 1)\n",
       "┌──────────────┐\n",
       "│ mispredicted │\n",
       "│ ---          │\n",
       "│ f64          │\n",
       "╞══════════════╡\n",
       "│ 0.042561     │\n",
       "└──────────────┘"
      ]
     },
     "execution_count": 6,
     "metadata": {},
     "output_type": "execute_result"
    }
   ],
   "source": [
    "df.lazy().groupby([\n",
    "    pl.col('checkpoint'),\n",
    "    pl.col('simpoint_weight')\n",
    "]).agg([\n",
    "    pl.col('mispredicted').cast(pl.UInt32).sum(),\n",
    "    pl.count()\n",
    "]).select([\n",
    "    pl.col('mispredicted') * pl.col('simpoint_weight'),\n",
    "    pl.col('count') * pl.col('simpoint_weight')\n",
    "]).select(\n",
    "    pl.col('mispredicted').sum() / pl.col('count').sum()\n",
    ").collect(streaming=True)"
   ]
  },
  {
   "cell_type": "code",
   "execution_count": 38,
   "id": "0fba46d0",
   "metadata": {},
   "outputs": [
    {
     "data": {
      "text/html": [
       "\n",
       "<div id=\"altair-viz-cf15dfedba584abb8adb67f4d468022f\"></div>\n",
       "<script type=\"text/javascript\">\n",
       "  var VEGA_DEBUG = (typeof VEGA_DEBUG == \"undefined\") ? {} : VEGA_DEBUG;\n",
       "  (function(spec, embedOpt){\n",
       "    let outputDiv = document.currentScript.previousElementSibling;\n",
       "    if (outputDiv.id !== \"altair-viz-cf15dfedba584abb8adb67f4d468022f\") {\n",
       "      outputDiv = document.getElementById(\"altair-viz-cf15dfedba584abb8adb67f4d468022f\");\n",
       "    }\n",
       "    const paths = {\n",
       "      \"vega\": \"https://cdn.jsdelivr.net/npm/vega@5?noext\",\n",
       "      \"vega-lib\": \"https://cdn.jsdelivr.net/npm/vega-lib?noext\",\n",
       "      \"vega-lite\": \"https://cdn.jsdelivr.net/npm/vega-lite@v5.6.1?noext\",\n",
       "      \"vega-embed\": \"https://cdn.jsdelivr.net/npm/vega-embed@6?noext\",\n",
       "    };\n",
       "\n",
       "    function maybeLoadScript(lib, version) {\n",
       "      var key = `${lib.replace(\"-\", \"\")}_version`;\n",
       "      return (VEGA_DEBUG[key] == version) ?\n",
       "        Promise.resolve(paths[lib]) :\n",
       "        new Promise(function(resolve, reject) {\n",
       "          var s = document.createElement('script');\n",
       "          document.getElementsByTagName(\"head\")[0].appendChild(s);\n",
       "          s.async = true;\n",
       "          s.onload = () => {\n",
       "            VEGA_DEBUG[key] = version;\n",
       "            return resolve(paths[lib]);\n",
       "          };\n",
       "          s.onerror = () => reject(`Error loading script: ${paths[lib]}`);\n",
       "          s.src = paths[lib];\n",
       "        });\n",
       "    }\n",
       "\n",
       "    function showError(err) {\n",
       "      outputDiv.innerHTML = `<div class=\"error\" style=\"color:red;\">${err}</div>`;\n",
       "      throw err;\n",
       "    }\n",
       "\n",
       "    function displayChart(vegaEmbed) {\n",
       "      vegaEmbed(outputDiv, spec, embedOpt)\n",
       "        .catch(err => showError(`Javascript Error: ${err.message}<br>This usually means there's a typo in your chart specification. See the javascript console for the full traceback.`));\n",
       "    }\n",
       "\n",
       "    if(typeof define === \"function\" && define.amd) {\n",
       "      requirejs.config({paths});\n",
       "      require([\"vega-embed\"], displayChart, err => showError(`Error loading script: ${err.message}`));\n",
       "    } else {\n",
       "      maybeLoadScript(\"vega\", \"5\")\n",
       "        .then(() => maybeLoadScript(\"vega-lite\", \"v5.6.1\"))\n",
       "        .then(() => maybeLoadScript(\"vega-embed\", \"6\"))\n",
       "        .catch(showError)\n",
       "        .then(() => displayChart(vegaEmbed));\n",
       "    }\n",
       "  })({\"$schema\": \"https://vega.github.io/schema/vega/v5.json\", \"data\": [{\"name\": \"source_0\", \"values\": [{\"bin_maxbins_10_misprediction_rate\": 0.4, \"bin_maxbins_10_misprediction_rate_end\": 0.5, \"bin_maxbins_10_taken_rate\": 0.6000000000000001, \"bin_maxbins_10_taken_rate_end\": 0.7000000000000001, \"sum_share of mispredictions\": 0.029244208197955875}, {\"bin_maxbins_10_misprediction_rate\": 0.30000000000000004, \"bin_maxbins_10_misprediction_rate_end\": 0.4, \"bin_maxbins_10_taken_rate\": 0.6000000000000001, \"bin_maxbins_10_taken_rate_end\": 0.7000000000000001, \"sum_share of mispredictions\": 0.051561934155673575}, {\"bin_maxbins_10_misprediction_rate\": 0.4, \"bin_maxbins_10_misprediction_rate_end\": 0.5, \"bin_maxbins_10_taken_rate\": 0.4, \"bin_maxbins_10_taken_rate_end\": 0.5, \"sum_share of mispredictions\": 0.02477457096810948}, {\"bin_maxbins_10_misprediction_rate\": 0.1, \"bin_maxbins_10_misprediction_rate_end\": 0.2, \"bin_maxbins_10_taken_rate\": 0.1, \"bin_maxbins_10_taken_rate_end\": 0.2, \"sum_share of mispredictions\": 0.02892320559405292}, {\"bin_maxbins_10_misprediction_rate\": 0.6000000000000001, \"bin_maxbins_10_misprediction_rate_end\": 0.7000000000000001, \"bin_maxbins_10_taken_rate\": 0.4, \"bin_maxbins_10_taken_rate_end\": 0.5, \"sum_share of mispredictions\": 0.01386369563156937}, {\"bin_maxbins_10_misprediction_rate\": 0.9, \"bin_maxbins_10_misprediction_rate_end\": 1.0, \"bin_maxbins_10_taken_rate\": 0.0, \"bin_maxbins_10_taken_rate_end\": 0.1, \"sum_share of mispredictions\": 0.07496582516018203}, {\"bin_maxbins_10_misprediction_rate\": 0.4, \"bin_maxbins_10_misprediction_rate_end\": 0.5, \"bin_maxbins_10_taken_rate\": 0.5, \"bin_maxbins_10_taken_rate_end\": 0.6, \"sum_share of mispredictions\": 0.0410057994816181}, {\"bin_maxbins_10_misprediction_rate\": 0.5, \"bin_maxbins_10_misprediction_rate_end\": 0.6, \"bin_maxbins_10_taken_rate\": 0.4, \"bin_maxbins_10_taken_rate_end\": 0.5, \"sum_share of mispredictions\": 0.012833574583070773}, {\"bin_maxbins_10_misprediction_rate\": 0.9, \"bin_maxbins_10_misprediction_rate_end\": 1.0, \"bin_maxbins_10_taken_rate\": 0.9, \"bin_maxbins_10_taken_rate_end\": 1.0, \"sum_share of mispredictions\": 0.04544579114968703}, {\"bin_maxbins_10_misprediction_rate\": 0.9, \"bin_maxbins_10_misprediction_rate_end\": 1.0, \"bin_maxbins_10_taken_rate\": 0.4, \"bin_maxbins_10_taken_rate_end\": 0.5, \"sum_share of mispredictions\": 0.012020961992238883}, {\"bin_maxbins_10_misprediction_rate\": 0.8, \"bin_maxbins_10_misprediction_rate_end\": 0.9, \"bin_maxbins_10_taken_rate\": 0.9, \"bin_maxbins_10_taken_rate_end\": 1.0, \"sum_share of mispredictions\": 0.07194430043225437}, {\"bin_maxbins_10_misprediction_rate\": 0.4, \"bin_maxbins_10_misprediction_rate_end\": 0.5, \"bin_maxbins_10_taken_rate\": 0.9, \"bin_maxbins_10_taken_rate_end\": 1.0, \"sum_share of mispredictions\": 0.029778599204748003}, {\"bin_maxbins_10_misprediction_rate\": 0.6000000000000001, \"bin_maxbins_10_misprediction_rate_end\": 0.7000000000000001, \"bin_maxbins_10_taken_rate\": 0.9, \"bin_maxbins_10_taken_rate_end\": 1.0, \"sum_share of mispredictions\": 0.07240217153558846}, {\"bin_maxbins_10_misprediction_rate\": 0.9, \"bin_maxbins_10_misprediction_rate_end\": 1.0, \"bin_maxbins_10_taken_rate\": 0.2, \"bin_maxbins_10_taken_rate_end\": 0.30000000000000004, \"sum_share of mispredictions\": 0.010163304205287731}, {\"bin_maxbins_10_misprediction_rate\": 0.7000000000000001, \"bin_maxbins_10_misprediction_rate_end\": 0.8, \"bin_maxbins_10_taken_rate\": 0.9, \"bin_maxbins_10_taken_rate_end\": 1.0, \"sum_share of mispredictions\": 0.052768402469608226}, {\"bin_maxbins_10_misprediction_rate\": 0.2, \"bin_maxbins_10_misprediction_rate_end\": 0.30000000000000004, \"bin_maxbins_10_taken_rate\": 0.9, \"bin_maxbins_10_taken_rate_end\": 1.0, \"sum_share of mispredictions\": 0.03696631860029886}, {\"bin_maxbins_10_misprediction_rate\": 0.0, \"bin_maxbins_10_misprediction_rate_end\": 0.1, \"bin_maxbins_10_taken_rate\": 0.0, \"bin_maxbins_10_taken_rate_end\": 0.1, \"sum_share of mispredictions\": 0.03344191004828119}, {\"bin_maxbins_10_misprediction_rate\": 0.5, \"bin_maxbins_10_misprediction_rate_end\": 0.6, \"bin_maxbins_10_taken_rate\": 0.6000000000000001, \"bin_maxbins_10_taken_rate_end\": 0.7000000000000001, \"sum_share of mispredictions\": 0.009752889423113635}, {\"bin_maxbins_10_misprediction_rate\": 0.2, \"bin_maxbins_10_misprediction_rate_end\": 0.30000000000000004, \"bin_maxbins_10_taken_rate\": 0.30000000000000004, \"bin_maxbins_10_taken_rate_end\": 0.4, \"sum_share of mispredictions\": 0.009352089588338134}, {\"bin_maxbins_10_misprediction_rate\": 0.30000000000000004, \"bin_maxbins_10_misprediction_rate_end\": 0.4, \"bin_maxbins_10_taken_rate\": 0.9, \"bin_maxbins_10_taken_rate_end\": 1.0, \"sum_share of mispredictions\": 0.05176315843784044}, {\"bin_maxbins_10_misprediction_rate\": 0.5, \"bin_maxbins_10_misprediction_rate_end\": 0.6, \"bin_maxbins_10_taken_rate\": 0.9, \"bin_maxbins_10_taken_rate_end\": 1.0, \"sum_share of mispredictions\": 0.031231563458374023}, {\"bin_maxbins_10_misprediction_rate\": 0.2, \"bin_maxbins_10_misprediction_rate_end\": 0.30000000000000004, \"bin_maxbins_10_taken_rate\": 0.5, \"bin_maxbins_10_taken_rate_end\": 0.6, \"sum_share of mispredictions\": 0.010334656165574555}, {\"bin_maxbins_10_misprediction_rate\": 0.5, \"bin_maxbins_10_misprediction_rate_end\": 0.6, \"bin_maxbins_10_taken_rate\": 0.5, \"bin_maxbins_10_taken_rate_end\": 0.6, \"sum_share of mispredictions\": 0.013978753177328869}, {\"bin_maxbins_10_misprediction_rate\": 0.2, \"bin_maxbins_10_misprediction_rate_end\": 0.30000000000000004, \"bin_maxbins_10_taken_rate\": 0.6000000000000001, \"bin_maxbins_10_taken_rate_end\": 0.7000000000000001, \"sum_share of mispredictions\": 0.007506305423121121}, {\"bin_maxbins_10_misprediction_rate\": 0.0, \"bin_maxbins_10_misprediction_rate_end\": 0.1, \"bin_maxbins_10_taken_rate\": 0.9, \"bin_maxbins_10_taken_rate_end\": 1.0, \"sum_share of mispredictions\": 0.06334981959510885}, {\"bin_maxbins_10_misprediction_rate\": 0.1, \"bin_maxbins_10_misprediction_rate_end\": 0.2, \"bin_maxbins_10_taken_rate\": 0.9, \"bin_maxbins_10_taken_rate_end\": 1.0, \"sum_share of mispredictions\": 0.03140268541603553}, {\"bin_maxbins_10_misprediction_rate\": 0.0, \"bin_maxbins_10_misprediction_rate_end\": 0.1, \"bin_maxbins_10_taken_rate\": 0.7000000000000001, \"bin_maxbins_10_taken_rate_end\": 0.8, \"sum_share of mispredictions\": 0.010621763719059584}, {\"bin_maxbins_10_misprediction_rate\": 0.1, \"bin_maxbins_10_misprediction_rate_end\": 0.2, \"bin_maxbins_10_taken_rate\": 0.4, \"bin_maxbins_10_taken_rate_end\": 0.5, \"sum_share of mispredictions\": 0.007430767060957217}, {\"bin_maxbins_10_misprediction_rate\": 0.1, \"bin_maxbins_10_misprediction_rate_end\": 0.2, \"bin_maxbins_10_taken_rate\": 0.2, \"bin_maxbins_10_taken_rate_end\": 0.30000000000000004, \"sum_share of mispredictions\": 0.008628605984541834}, {\"bin_maxbins_10_misprediction_rate\": 0.2, \"bin_maxbins_10_misprediction_rate_end\": 0.30000000000000004, \"bin_maxbins_10_taken_rate\": 0.4, \"bin_maxbins_10_taken_rate_end\": 0.5, \"sum_share of mispredictions\": 0.005420489810723834}, {\"bin_maxbins_10_misprediction_rate\": 0.8, \"bin_maxbins_10_misprediction_rate_end\": 0.9, \"bin_maxbins_10_taken_rate\": 0.5, \"bin_maxbins_10_taken_rate_end\": 0.6, \"sum_share of mispredictions\": 0.005064770605528523}, {\"bin_maxbins_10_misprediction_rate\": 0.0, \"bin_maxbins_10_misprediction_rate_end\": 0.1, \"bin_maxbins_10_taken_rate\": 0.1, \"bin_maxbins_10_taken_rate_end\": 0.2, \"sum_share of mispredictions\": 0.004487760584073984}, {\"bin_maxbins_10_misprediction_rate\": 0.1, \"bin_maxbins_10_misprediction_rate_end\": 0.2, \"bin_maxbins_10_taken_rate\": 0.6000000000000001, \"bin_maxbins_10_taken_rate_end\": 0.7000000000000001, \"sum_share of mispredictions\": 0.0061475236107250645}, {\"bin_maxbins_10_misprediction_rate\": 0.2, \"bin_maxbins_10_misprediction_rate_end\": 0.30000000000000004, \"bin_maxbins_10_taken_rate\": 0.1, \"bin_maxbins_10_taken_rate_end\": 0.2, \"sum_share of mispredictions\": 0.006213860375497957}, {\"bin_maxbins_10_misprediction_rate\": 0.4, \"bin_maxbins_10_misprediction_rate_end\": 0.5, \"bin_maxbins_10_taken_rate\": 0.7000000000000001, \"bin_maxbins_10_taken_rate_end\": 0.8, \"sum_share of mispredictions\": 0.0025801943481211114}, {\"bin_maxbins_10_misprediction_rate\": 0.0, \"bin_maxbins_10_misprediction_rate_end\": 0.1, \"bin_maxbins_10_taken_rate\": 0.8, \"bin_maxbins_10_taken_rate_end\": 0.9, \"sum_share of mispredictions\": 0.007624475760823731}, {\"bin_maxbins_10_misprediction_rate\": 0.6000000000000001, \"bin_maxbins_10_misprediction_rate_end\": 0.7000000000000001, \"bin_maxbins_10_taken_rate\": 0.6000000000000001, \"bin_maxbins_10_taken_rate_end\": 0.7000000000000001, \"sum_share of mispredictions\": 0.0018693637917839973}, {\"bin_maxbins_10_misprediction_rate\": 0.8, \"bin_maxbins_10_misprediction_rate_end\": 0.9, \"bin_maxbins_10_taken_rate\": 0.1, \"bin_maxbins_10_taken_rate_end\": 0.2, \"sum_share of mispredictions\": 0.0029397114237674103}, {\"bin_maxbins_10_misprediction_rate\": 0.1, \"bin_maxbins_10_misprediction_rate_end\": 0.2, \"bin_maxbins_10_taken_rate\": 0.8, \"bin_maxbins_10_taken_rate_end\": 0.9, \"sum_share of mispredictions\": 0.006157225021114595}, {\"bin_maxbins_10_misprediction_rate\": 0.2, \"bin_maxbins_10_misprediction_rate_end\": 0.30000000000000004, \"bin_maxbins_10_taken_rate\": 0.7000000000000001, \"bin_maxbins_10_taken_rate_end\": 0.8, \"sum_share of mispredictions\": 0.006258965043223319}, {\"bin_maxbins_10_misprediction_rate\": 0.1, \"bin_maxbins_10_misprediction_rate_end\": 0.2, \"bin_maxbins_10_taken_rate\": 0.30000000000000004, \"bin_maxbins_10_taken_rate_end\": 0.4, \"sum_share of mispredictions\": 0.008187925837080366}, {\"bin_maxbins_10_misprediction_rate\": 0.0, \"bin_maxbins_10_misprediction_rate_end\": 0.1, \"bin_maxbins_10_taken_rate\": 0.4, \"bin_maxbins_10_taken_rate_end\": 0.5, \"sum_share of mispredictions\": 0.0026113503444649805}, {\"bin_maxbins_10_misprediction_rate\": 0.30000000000000004, \"bin_maxbins_10_misprediction_rate_end\": 0.4, \"bin_maxbins_10_taken_rate\": 0.4, \"bin_maxbins_10_taken_rate_end\": 0.5, \"sum_share of mispredictions\": 0.004220409015686927}, {\"bin_maxbins_10_misprediction_rate\": 0.30000000000000004, \"bin_maxbins_10_misprediction_rate_end\": 0.4, \"bin_maxbins_10_taken_rate\": 0.30000000000000004, \"bin_maxbins_10_taken_rate_end\": 0.4, \"sum_share of mispredictions\": 0.001991860712560554}, {\"bin_maxbins_10_misprediction_rate\": 0.30000000000000004, \"bin_maxbins_10_misprediction_rate_end\": 0.4, \"bin_maxbins_10_taken_rate\": 0.5, \"bin_maxbins_10_taken_rate_end\": 0.6, \"sum_share of mispredictions\": 0.0021401667354472285}, {\"bin_maxbins_10_misprediction_rate\": 0.1, \"bin_maxbins_10_misprediction_rate_end\": 0.2, \"bin_maxbins_10_taken_rate\": 0.5, \"bin_maxbins_10_taken_rate_end\": 0.6, \"sum_share of mispredictions\": 0.0021330888197559437}, {\"bin_maxbins_10_misprediction_rate\": 0.1, \"bin_maxbins_10_misprediction_rate_end\": 0.2, \"bin_maxbins_10_taken_rate\": 0.7000000000000001, \"bin_maxbins_10_taken_rate_end\": 0.8, \"sum_share of mispredictions\": 0.00227680438192592}, {\"bin_maxbins_10_misprediction_rate\": 0.2, \"bin_maxbins_10_misprediction_rate_end\": 0.30000000000000004, \"bin_maxbins_10_taken_rate\": 0.8, \"bin_maxbins_10_taken_rate_end\": 0.9, \"sum_share of mispredictions\": 0.0020702221213525435}, {\"bin_maxbins_10_misprediction_rate\": 0.0, \"bin_maxbins_10_misprediction_rate_end\": 0.1, \"bin_maxbins_10_taken_rate\": 0.30000000000000004, \"bin_maxbins_10_taken_rate_end\": 0.4, \"sum_share of mispredictions\": 0.002088848071991275}, {\"bin_maxbins_10_misprediction_rate\": 0.30000000000000004, \"bin_maxbins_10_misprediction_rate_end\": 0.4, \"bin_maxbins_10_taken_rate\": 0.7000000000000001, \"bin_maxbins_10_taken_rate_end\": 0.8, \"sum_share of mispredictions\": 0.004338760859738469}, {\"bin_maxbins_10_misprediction_rate\": 0.0, \"bin_maxbins_10_misprediction_rate_end\": 0.1, \"bin_maxbins_10_taken_rate\": 0.5, \"bin_maxbins_10_taken_rate_end\": 0.6, \"sum_share of mispredictions\": 0.001608764720295844}, {\"bin_maxbins_10_misprediction_rate\": 0.9, \"bin_maxbins_10_misprediction_rate_end\": 1.0, \"bin_maxbins_10_taken_rate\": 0.5, \"bin_maxbins_10_taken_rate_end\": 0.6, \"sum_share of mispredictions\": 0.0005823560296908884}, {\"bin_maxbins_10_misprediction_rate\": 0.6000000000000001, \"bin_maxbins_10_misprediction_rate_end\": 0.7000000000000001, \"bin_maxbins_10_taken_rate\": 0.30000000000000004, \"bin_maxbins_10_taken_rate_end\": 0.4, \"sum_share of mispredictions\": 0.0007516816402708443}, {\"bin_maxbins_10_misprediction_rate\": 0.8, \"bin_maxbins_10_misprediction_rate_end\": 0.9, \"bin_maxbins_10_taken_rate\": 0.8, \"bin_maxbins_10_taken_rate_end\": 0.9, \"sum_share of mispredictions\": 0.0004380221794096488}, {\"bin_maxbins_10_misprediction_rate\": 0.30000000000000004, \"bin_maxbins_10_misprediction_rate_end\": 0.4, \"bin_maxbins_10_taken_rate\": 0.2, \"bin_maxbins_10_taken_rate_end\": 0.30000000000000004, \"sum_share of mispredictions\": 0.0009002543495271071}, {\"bin_maxbins_10_misprediction_rate\": 0.7000000000000001, \"bin_maxbins_10_misprediction_rate_end\": 0.8, \"bin_maxbins_10_taken_rate\": 0.7000000000000001, \"bin_maxbins_10_taken_rate_end\": 0.8, \"sum_share of mispredictions\": 0.0006080094332907731}, {\"bin_maxbins_10_misprediction_rate\": 0.6000000000000001, \"bin_maxbins_10_misprediction_rate_end\": 0.7000000000000001, \"bin_maxbins_10_taken_rate\": 0.5, \"bin_maxbins_10_taken_rate_end\": 0.6, \"sum_share of mispredictions\": 0.0003469671939550984}, {\"bin_maxbins_10_misprediction_rate\": 0.0, \"bin_maxbins_10_misprediction_rate_end\": 0.1, \"bin_maxbins_10_taken_rate\": 0.2, \"bin_maxbins_10_taken_rate_end\": 0.30000000000000004, \"sum_share of mispredictions\": 0.0027596999342604208}, {\"bin_maxbins_10_misprediction_rate\": 0.7000000000000001, \"bin_maxbins_10_misprediction_rate_end\": 0.8, \"bin_maxbins_10_taken_rate\": 0.5, \"bin_maxbins_10_taken_rate_end\": 0.6, \"sum_share of mispredictions\": 0.0002782623778916857}, {\"bin_maxbins_10_misprediction_rate\": 0.9, \"bin_maxbins_10_misprediction_rate_end\": 1.0, \"bin_maxbins_10_taken_rate\": 0.7000000000000001, \"bin_maxbins_10_taken_rate_end\": 0.8, \"sum_share of mispredictions\": 0.00023439379506300955}, {\"bin_maxbins_10_misprediction_rate\": 0.9, \"bin_maxbins_10_misprediction_rate_end\": 1.0, \"bin_maxbins_10_taken_rate\": 0.6000000000000001, \"bin_maxbins_10_taken_rate_end\": 0.7000000000000001, \"sum_share of mispredictions\": 0.0004761652617523786}, {\"bin_maxbins_10_misprediction_rate\": 0.2, \"bin_maxbins_10_misprediction_rate_end\": 0.30000000000000004, \"bin_maxbins_10_taken_rate\": 0.2, \"bin_maxbins_10_taken_rate_end\": 0.30000000000000004, \"sum_share of mispredictions\": 0.001742795127252068}, {\"bin_maxbins_10_misprediction_rate\": 0.1, \"bin_maxbins_10_misprediction_rate_end\": 0.2, \"bin_maxbins_10_taken_rate\": 0.0, \"bin_maxbins_10_taken_rate_end\": 0.1, \"sum_share of mispredictions\": 0.00046566083509391374}, {\"bin_maxbins_10_misprediction_rate\": 0.0, \"bin_maxbins_10_misprediction_rate_end\": 0.1, \"bin_maxbins_10_taken_rate\": 0.6000000000000001, \"bin_maxbins_10_taken_rate_end\": 0.7000000000000001, \"sum_share of mispredictions\": 0.0007967185660153912}, {\"bin_maxbins_10_misprediction_rate\": 0.9, \"bin_maxbins_10_misprediction_rate_end\": 1.0, \"bin_maxbins_10_taken_rate\": 0.1, \"bin_maxbins_10_taken_rate_end\": 0.2, \"sum_share of mispredictions\": 0.0005403019649453326}, {\"bin_maxbins_10_misprediction_rate\": 0.9, \"bin_maxbins_10_misprediction_rate_end\": 1.0, \"bin_maxbins_10_taken_rate\": 0.30000000000000004, \"bin_maxbins_10_taken_rate_end\": 0.4, \"sum_share of mispredictions\": 0.0002136540352670618}, {\"bin_maxbins_10_misprediction_rate\": 0.5, \"bin_maxbins_10_misprediction_rate_end\": 0.6, \"bin_maxbins_10_taken_rate\": 0.8, \"bin_maxbins_10_taken_rate_end\": 0.9, \"sum_share of mispredictions\": 0.00019388817992787566}, {\"bin_maxbins_10_misprediction_rate\": 0.30000000000000004, \"bin_maxbins_10_misprediction_rate_end\": 0.4, \"bin_maxbins_10_taken_rate\": 0.1, \"bin_maxbins_10_taken_rate_end\": 0.2, \"sum_share of mispredictions\": 0.00027238012490379024}, {\"bin_maxbins_10_misprediction_rate\": 0.4, \"bin_maxbins_10_misprediction_rate_end\": 0.5, \"bin_maxbins_10_taken_rate\": 0.2, \"bin_maxbins_10_taken_rate_end\": 0.30000000000000004, \"sum_share of mispredictions\": 0.0001094185186202779}, {\"bin_maxbins_10_misprediction_rate\": 0.9, \"bin_maxbins_10_misprediction_rate_end\": 1.0, \"bin_maxbins_10_taken_rate\": 0.8, \"bin_maxbins_10_taken_rate_end\": 0.9, \"sum_share of mispredictions\": 7.589365057529774e-05}, {\"bin_maxbins_10_misprediction_rate\": 0.2, \"bin_maxbins_10_misprediction_rate_end\": 0.30000000000000004, \"bin_maxbins_10_taken_rate\": 0.0, \"bin_maxbins_10_taken_rate_end\": 0.1, \"sum_share of mispredictions\": 0.00022637301934352215}, {\"bin_maxbins_10_misprediction_rate\": 0.4, \"bin_maxbins_10_misprediction_rate_end\": 0.5, \"bin_maxbins_10_taken_rate\": 0.30000000000000004, \"bin_maxbins_10_taken_rate_end\": 0.4, \"sum_share of mispredictions\": 0.0002378083784339534}, {\"bin_maxbins_10_misprediction_rate\": 0.5, \"bin_maxbins_10_misprediction_rate_end\": 0.6, \"bin_maxbins_10_taken_rate\": 0.7000000000000001, \"bin_maxbins_10_taken_rate_end\": 0.8, \"sum_share of mispredictions\": 0.00010494391989931578}, {\"bin_maxbins_10_misprediction_rate\": 0.6000000000000001, \"bin_maxbins_10_misprediction_rate_end\": 0.7000000000000001, \"bin_maxbins_10_taken_rate\": 0.8, \"bin_maxbins_10_taken_rate_end\": 0.9, \"sum_share of mispredictions\": 0.00016811982794516628}, {\"bin_maxbins_10_misprediction_rate\": 0.7000000000000001, \"bin_maxbins_10_misprediction_rate_end\": 0.8, \"bin_maxbins_10_taken_rate\": 0.2, \"bin_maxbins_10_taken_rate_end\": 0.30000000000000004, \"sum_share of mispredictions\": 0.00025294085856394845}, {\"bin_maxbins_10_misprediction_rate\": 0.30000000000000004, \"bin_maxbins_10_misprediction_rate_end\": 0.4, \"bin_maxbins_10_taken_rate\": 0.8, \"bin_maxbins_10_taken_rate_end\": 0.9, \"sum_share of mispredictions\": 0.0005048772756774539}, {\"bin_maxbins_10_misprediction_rate\": 0.8, \"bin_maxbins_10_misprediction_rate_end\": 0.9, \"bin_maxbins_10_taken_rate\": 0.6000000000000001, \"bin_maxbins_10_taken_rate_end\": 0.7000000000000001, \"sum_share of mispredictions\": 5.997429889011794e-05}, {\"bin_maxbins_10_misprediction_rate\": 0.6000000000000001, \"bin_maxbins_10_misprediction_rate_end\": 0.7000000000000001, \"bin_maxbins_10_taken_rate\": 0.7000000000000001, \"bin_maxbins_10_taken_rate_end\": 0.8, \"sum_share of mispredictions\": 0.00011642359957163117}, {\"bin_maxbins_10_misprediction_rate\": 0.8, \"bin_maxbins_10_misprediction_rate_end\": 0.9, \"bin_maxbins_10_taken_rate\": 0.4, \"bin_maxbins_10_taken_rate_end\": 0.5, \"sum_share of mispredictions\": 3.617190035740108e-05}, {\"bin_maxbins_10_misprediction_rate\": 0.4, \"bin_maxbins_10_misprediction_rate_end\": 0.5, \"bin_maxbins_10_taken_rate\": 0.1, \"bin_maxbins_10_taken_rate_end\": 0.2, \"sum_share of mispredictions\": 3.1987670601603236e-05}, {\"bin_maxbins_10_misprediction_rate\": 0.7000000000000001, \"bin_maxbins_10_misprediction_rate_end\": 0.8, \"bin_maxbins_10_taken_rate\": 0.6000000000000001, \"bin_maxbins_10_taken_rate_end\": 0.7000000000000001, \"sum_share of mispredictions\": 7.786577033710071e-05}, {\"bin_maxbins_10_misprediction_rate\": 0.4, \"bin_maxbins_10_misprediction_rate_end\": 0.5, \"bin_maxbins_10_taken_rate\": 0.8, \"bin_maxbins_10_taken_rate_end\": 0.9, \"sum_share of mispredictions\": 8.503726921664073e-05}, {\"bin_maxbins_10_misprediction_rate\": 0.7000000000000001, \"bin_maxbins_10_misprediction_rate_end\": 0.8, \"bin_maxbins_10_taken_rate\": 0.8, \"bin_maxbins_10_taken_rate_end\": 0.9, \"sum_share of mispredictions\": 5.964090497044378e-05}, {\"bin_maxbins_10_misprediction_rate\": 0.4, \"bin_maxbins_10_misprediction_rate_end\": 0.5, \"bin_maxbins_10_taken_rate\": 0.0, \"bin_maxbins_10_taken_rate_end\": 0.1, \"sum_share of mispredictions\": 6.227417900887361e-05}, {\"bin_maxbins_10_misprediction_rate\": 0.30000000000000004, \"bin_maxbins_10_misprediction_rate_end\": 0.4, \"bin_maxbins_10_taken_rate\": 0.0, \"bin_maxbins_10_taken_rate_end\": 0.1, \"sum_share of mispredictions\": 6.709462278966694e-05}, {\"bin_maxbins_10_misprediction_rate\": 0.7000000000000001, \"bin_maxbins_10_misprediction_rate_end\": 0.8, \"bin_maxbins_10_taken_rate\": 0.4, \"bin_maxbins_10_taken_rate_end\": 0.5, \"sum_share of mispredictions\": 1.4489292039710614e-05}, {\"bin_maxbins_10_misprediction_rate\": 0.7000000000000001, \"bin_maxbins_10_misprediction_rate_end\": 0.8, \"bin_maxbins_10_taken_rate\": 0.1, \"bin_maxbins_10_taken_rate_end\": 0.2, \"sum_share of mispredictions\": 1.204357789871668e-05}, {\"bin_maxbins_10_misprediction_rate\": 0.5, \"bin_maxbins_10_misprediction_rate_end\": 0.6, \"bin_maxbins_10_taken_rate\": 0.30000000000000004, \"bin_maxbins_10_taken_rate_end\": 0.4, \"sum_share of mispredictions\": 2.233184995647927e-05}, {\"bin_maxbins_10_misprediction_rate\": 0.8, \"bin_maxbins_10_misprediction_rate_end\": 0.9, \"bin_maxbins_10_taken_rate\": 0.7000000000000001, \"bin_maxbins_10_taken_rate_end\": 0.8, \"sum_share of mispredictions\": 1.0309442793161254e-05}, {\"bin_maxbins_10_misprediction_rate\": 0.6000000000000001, \"bin_maxbins_10_misprediction_rate_end\": 0.7000000000000001, \"bin_maxbins_10_taken_rate\": 0.0, \"bin_maxbins_10_taken_rate_end\": 0.1, \"sum_share of mispredictions\": 1.0237789766651913e-05}, {\"bin_maxbins_10_misprediction_rate\": 0.5, \"bin_maxbins_10_misprediction_rate_end\": 0.6, \"bin_maxbins_10_taken_rate\": 0.0, \"bin_maxbins_10_taken_rate_end\": 0.1, \"sum_share of mispredictions\": 4.962806304107826e-05}, {\"bin_maxbins_10_misprediction_rate\": 0.5, \"bin_maxbins_10_misprediction_rate_end\": 0.6, \"bin_maxbins_10_taken_rate\": 0.2, \"bin_maxbins_10_taken_rate_end\": 0.30000000000000004, \"sum_share of mispredictions\": 3.311486641720383e-05}, {\"bin_maxbins_10_misprediction_rate\": 0.7000000000000001, \"bin_maxbins_10_misprediction_rate_end\": 0.8, \"bin_maxbins_10_taken_rate\": 0.0, \"bin_maxbins_10_taken_rate_end\": 0.1, \"sum_share of mispredictions\": 1.8300306319734678e-05}, {\"bin_maxbins_10_misprediction_rate\": 0.5, \"bin_maxbins_10_misprediction_rate_end\": 0.6, \"bin_maxbins_10_taken_rate\": 0.1, \"bin_maxbins_10_taken_rate_end\": 0.2, \"sum_share of mispredictions\": 4.522579507710806e-06}, {\"bin_maxbins_10_misprediction_rate\": 0.8, \"bin_maxbins_10_misprediction_rate_end\": 0.9, \"bin_maxbins_10_taken_rate\": 0.0, \"bin_maxbins_10_taken_rate_end\": 0.1, \"sum_share of mispredictions\": 4.64969367048926e-06}, {\"bin_maxbins_10_misprediction_rate\": 0.6000000000000001, \"bin_maxbins_10_misprediction_rate_end\": 0.7000000000000001, \"bin_maxbins_10_taken_rate\": 0.1, \"bin_maxbins_10_taken_rate_end\": 0.2, \"sum_share of mispredictions\": 2.474390540124615e-06}, {\"bin_maxbins_10_misprediction_rate\": 0.8, \"bin_maxbins_10_misprediction_rate_end\": 0.9, \"bin_maxbins_10_taken_rate\": 0.2, \"bin_maxbins_10_taken_rate_end\": 0.30000000000000004, \"sum_share of mispredictions\": 2.160968382737246e-06}]}], \"signals\": [{\"name\": \"bin_maxbins_10_misprediction_rate_bins\", \"value\": {\"fields\": [\"misprediction_rate\"], \"fname\": \"bin_misprediction_rate\", \"start\": 0.0, \"step\": 0.1, \"stop\": 1.0}}, {\"name\": \"bin_maxbins_10_taken_rate_bins\", \"value\": {\"fields\": [\"taken_rate\"], \"fname\": \"bin_taken_rate\", \"start\": 0.0, \"step\": 0.1, \"stop\": 1.0}}], \"marks\": [{\"type\": \"rect\", \"name\": \"marks\", \"from\": {\"data\": \"source_0\"}, \"encode\": {\"update\": {\"fill\": {\"field\": \"sum_share of mispredictions\", \"scale\": \"color\"}, \"x\": {\"field\": \"bin_maxbins_10_taken_rate_end\", \"scale\": \"x\", \"offset\": 0.5}, \"y\": {\"field\": \"bin_maxbins_10_misprediction_rate_end\", \"scale\": \"y\", \"offset\": 0.5}, \"x2\": {\"field\": \"bin_maxbins_10_taken_rate\", \"scale\": \"x\", \"offset\": 0.5}, \"y2\": {\"field\": \"bin_maxbins_10_misprediction_rate\", \"scale\": \"y\", \"offset\": 0.5}, \"description\": {\"signal\": \"\\\"taken_rate (binned): \\\" + (!isValid(datum[\\\"bin_maxbins_10_taken_rate\\\"]) || !isFinite(+datum[\\\"bin_maxbins_10_taken_rate\\\"]) ? \\\"null\\\" : format(datum[\\\"bin_maxbins_10_taken_rate\\\"], \\\".0%\\\") + \\\" \\u2013 \\\" + format(datum[\\\"bin_maxbins_10_taken_rate_end\\\"], \\\".0%\\\")) + \\\"; misprediction_rate (binned): \\\" + (!isValid(datum[\\\"bin_maxbins_10_misprediction_rate\\\"]) || !isFinite(+datum[\\\"bin_maxbins_10_misprediction_rate\\\"]) ? \\\"null\\\" : format(datum[\\\"bin_maxbins_10_misprediction_rate\\\"], \\\".0%\\\") + \\\" \\u2013 \\\" + format(datum[\\\"bin_maxbins_10_misprediction_rate_end\\\"], \\\".0%\\\")) + \\\"; Sum of share of mispredictions: \\\" + (format(datum[\\\"sum_share of mispredictions\\\"], \\\".0%\\\"))\"}}}, \"style\": [\"rect\"]}], \"scales\": [{\"name\": \"x\", \"type\": \"linear\", \"domain\": {\"signal\": \"[bin_maxbins_10_taken_rate_bins.start, bin_maxbins_10_taken_rate_bins.stop]\"}, \"range\": [0, {\"signal\": \"width\"}], \"bins\": {\"signal\": \"bin_maxbins_10_taken_rate_bins\"}, \"zero\": false}, {\"name\": \"y\", \"type\": \"linear\", \"domain\": {\"signal\": \"[bin_maxbins_10_misprediction_rate_bins.start, bin_maxbins_10_misprediction_rate_bins.stop]\"}, \"range\": [{\"signal\": \"height\"}, 0], \"bins\": {\"signal\": \"bin_maxbins_10_misprediction_rate_bins\"}, \"zero\": false}, {\"name\": \"color\", \"type\": \"sqrt\", \"domain\": [0, 0.1], \"range\": {\"scheme\": \"blueorange\"}, \"zero\": true, \"interpolate\": \"hcl\"}], \"axes\": [{\"scale\": \"x\", \"orient\": \"bottom\", \"grid\": false, \"format\": \".0%\", \"zindex\": 1, \"labelOverlap\": true, \"title\": \"taken_rate (binned)\", \"labelFlush\": true, \"tickCount\": {\"signal\": \"ceil(width/10)\"}}, {\"scale\": \"y\", \"orient\": \"left\", \"grid\": false, \"zindex\": 1, \"labelOverlap\": true, \"title\": \"misprediction_rate (binned)\", \"format\": \".0%\", \"tickCount\": {\"signal\": \"ceil(height/10)\"}}], \"legends\": [{\"format\": \".0%\", \"title\": [\"share of all\", \"mispredictions\"], \"fill\": \"color\", \"gradientLength\": {\"signal\": \"clamp(height, 64, 200)\"}}], \"padding\": 5, \"width\": 400, \"background\": \"white\", \"height\": 400, \"style\": \"cell\"}, {\"mode\": \"vega\"});\n",
       "</script>"
      ],
      "text/plain": [
       "alt.Chart(...)"
      ]
     },
     "execution_count": 38,
     "metadata": {},
     "output_type": "execute_result"
    }
   ],
   "source": [
    "ddf = df.lazy().groupby([\n",
    "    pl.col('inst_addr'),\n",
    "    pl.col('alloc_context'),\n",
    "    pl.col('checkpoint'),\n",
    "    pl.col('simpoint_weight'),\n",
    "    pl.col('virtual'),\n",
    "    pl.col('return')\n",
    "]).agg(\n",
    "    pl.col('taken').cast(pl.UInt32).sum(),\n",
    "    pl.col('mispredicted').cast(pl.UInt32).sum(),\n",
    "    pl.count()\n",
    ").groupby([\n",
    "    pl.col('inst_addr'),\n",
    "    pl.col('alloc_context'),\n",
    "    pl.col('virtual'),\n",
    "    pl.col('return')\n",
    "]).agg([\n",
    "    (pl.col('taken') * pl.col('simpoint_weight')).sum(),\n",
    "    (pl.col('mispredicted') * pl.col('simpoint_weight')).sum(),\n",
    "    (pl.col('count') * pl.col('simpoint_weight')).sum()\n",
    "]).with_columns([\n",
    "    (pl.col('taken') / pl.col('count')).alias('taken_rate'),\n",
    "    (pl.col('mispredicted') / pl.col('count')).alias('misprediction_rate'),\n",
    "    pl.col('count').sum().alias('total count'),\n",
    "    (pl.col('count') / pl.col('count').sum()).alias('share of occurences'),\n",
    "    (pl.col('mispredicted') / pl.col('mispredicted').sum()).alias('share of mispredictions')\n",
    "]).filter(\n",
    "    (pl.col('alloc_context') != 0) # & pl.col('virtual') & ~pl.col('return')\n",
    ").sort(\n",
    "    'mispredicted',\n",
    "    descending=True\n",
    ").collect(streaming=True)\n",
    "\n",
    "alt.Chart(ddf).mark_rect().encode(\n",
    "    x=alt.X(\"taken_rate:Q\", bin=True).axis(format='.0%'),\n",
    "    y=alt.Y(\"misprediction_rate:Q\", bin=True).axis(format='.0%'),\n",
    "    color=alt.Color('sum(share of mispredictions):Q',\n",
    "                    scale=alt.Scale(type='sqrt', scheme='blueorange',domain=[0, 0.1]),\n",
    "                    legend=alt.Legend(format=\".0%\",title=['share of all', 'mispredictions']))\n",
    ").properties(\n",
    "    width=400,\n",
    "    height=400\n",
    ")\n",
    "\n",
    "#ddf.head(5)"
   ]
  },
  {
   "cell_type": "code",
   "execution_count": 35,
   "id": "94cb8493",
   "metadata": {
    "scrolled": true
   },
   "outputs": [
    {
     "data": {
      "text/html": [
       "\n",
       "<div id=\"altair-viz-77719f1326ba4e9fb8eefb778a0ea496\"></div>\n",
       "<script type=\"text/javascript\">\n",
       "  var VEGA_DEBUG = (typeof VEGA_DEBUG == \"undefined\") ? {} : VEGA_DEBUG;\n",
       "  (function(spec, embedOpt){\n",
       "    let outputDiv = document.currentScript.previousElementSibling;\n",
       "    if (outputDiv.id !== \"altair-viz-77719f1326ba4e9fb8eefb778a0ea496\") {\n",
       "      outputDiv = document.getElementById(\"altair-viz-77719f1326ba4e9fb8eefb778a0ea496\");\n",
       "    }\n",
       "    const paths = {\n",
       "      \"vega\": \"https://cdn.jsdelivr.net/npm/vega@5?noext\",\n",
       "      \"vega-lib\": \"https://cdn.jsdelivr.net/npm/vega-lib?noext\",\n",
       "      \"vega-lite\": \"https://cdn.jsdelivr.net/npm/vega-lite@v5.6.1?noext\",\n",
       "      \"vega-embed\": \"https://cdn.jsdelivr.net/npm/vega-embed@6?noext\",\n",
       "    };\n",
       "\n",
       "    function maybeLoadScript(lib, version) {\n",
       "      var key = `${lib.replace(\"-\", \"\")}_version`;\n",
       "      return (VEGA_DEBUG[key] == version) ?\n",
       "        Promise.resolve(paths[lib]) :\n",
       "        new Promise(function(resolve, reject) {\n",
       "          var s = document.createElement('script');\n",
       "          document.getElementsByTagName(\"head\")[0].appendChild(s);\n",
       "          s.async = true;\n",
       "          s.onload = () => {\n",
       "            VEGA_DEBUG[key] = version;\n",
       "            return resolve(paths[lib]);\n",
       "          };\n",
       "          s.onerror = () => reject(`Error loading script: ${paths[lib]}`);\n",
       "          s.src = paths[lib];\n",
       "        });\n",
       "    }\n",
       "\n",
       "    function showError(err) {\n",
       "      outputDiv.innerHTML = `<div class=\"error\" style=\"color:red;\">${err}</div>`;\n",
       "      throw err;\n",
       "    }\n",
       "\n",
       "    function displayChart(vegaEmbed) {\n",
       "      vegaEmbed(outputDiv, spec, embedOpt)\n",
       "        .catch(err => showError(`Javascript Error: ${err.message}<br>This usually means there's a typo in your chart specification. See the javascript console for the full traceback.`));\n",
       "    }\n",
       "\n",
       "    if(typeof define === \"function\" && define.amd) {\n",
       "      requirejs.config({paths});\n",
       "      require([\"vega-embed\"], displayChart, err => showError(`Error loading script: ${err.message}`));\n",
       "    } else {\n",
       "      maybeLoadScript(\"vega\", \"5\")\n",
       "        .then(() => maybeLoadScript(\"vega-lite\", \"v5.6.1\"))\n",
       "        .then(() => maybeLoadScript(\"vega-embed\", \"6\"))\n",
       "        .catch(showError)\n",
       "        .then(() => displayChart(vegaEmbed));\n",
       "    }\n",
       "  })({\"$schema\": \"https://vega.github.io/schema/vega/v5.json\", \"data\": [{\"name\": \"source_0\", \"values\": [{\"bin_maxbins_10_misprediction rate\": 0.0, \"bin_maxbins_10_misprediction rate_end\": 0.1, \"bin_maxbins_10_taken rate\": 0.0, \"bin_maxbins_10_taken rate_end\": 0.1, \"sum_share of occurences\": 0.3414200832982828}, {\"bin_maxbins_10_misprediction rate\": 0.0, \"bin_maxbins_10_misprediction rate_end\": 0.1, \"bin_maxbins_10_taken rate\": 0.9, \"bin_maxbins_10_taken rate_end\": 1.0, \"sum_share of occurences\": 0.49144805213321874}, {\"bin_maxbins_10_misprediction rate\": 0.1, \"bin_maxbins_10_misprediction rate_end\": 0.2, \"bin_maxbins_10_taken rate\": 0.9, \"bin_maxbins_10_taken rate_end\": 1.0, \"sum_share of occurences\": 0.015058852507983373}, {\"bin_maxbins_10_misprediction rate\": 0.2, \"bin_maxbins_10_misprediction rate_end\": 0.30000000000000004, \"bin_maxbins_10_taken rate\": 0.4, \"bin_maxbins_10_taken rate_end\": 0.5, \"sum_share of occurences\": 0.0002900854038239496}, {\"bin_maxbins_10_misprediction rate\": 0.9, \"bin_maxbins_10_misprediction rate_end\": 1.0, \"bin_maxbins_10_taken rate\": 0.9, \"bin_maxbins_10_taken rate_end\": 1.0, \"sum_share of occurences\": 0.0005684166195818951}, {\"bin_maxbins_10_misprediction rate\": 0.0, \"bin_maxbins_10_misprediction rate_end\": 0.1, \"bin_maxbins_10_taken rate\": 0.5, \"bin_maxbins_10_taken rate_end\": 0.6, \"sum_share of occurences\": 0.0063446637547105575}, {\"bin_maxbins_10_misprediction rate\": 0.2, \"bin_maxbins_10_misprediction rate_end\": 0.30000000000000004, \"bin_maxbins_10_taken rate\": 0.7000000000000001, \"bin_maxbins_10_taken rate_end\": 0.8, \"sum_share of occurences\": 0.00020646609151377115}, {\"bin_maxbins_10_misprediction rate\": 0.0, \"bin_maxbins_10_misprediction rate_end\": 0.1, \"bin_maxbins_10_taken rate\": 0.7000000000000001, \"bin_maxbins_10_taken rate_end\": 0.8, \"sum_share of occurences\": 0.011894227482731206}, {\"bin_maxbins_10_misprediction rate\": 0.4, \"bin_maxbins_10_misprediction rate_end\": 0.5, \"bin_maxbins_10_taken rate\": 0.9, \"bin_maxbins_10_taken rate_end\": 1.0, \"sum_share of occurences\": 0.00905206997265857}, {\"bin_maxbins_10_misprediction rate\": 0.2, \"bin_maxbins_10_misprediction rate_end\": 0.30000000000000004, \"bin_maxbins_10_taken rate\": 0.8, \"bin_maxbins_10_taken rate_end\": 0.9, \"sum_share of occurences\": 0.000623836403414791}, {\"bin_maxbins_10_misprediction rate\": 0.8, \"bin_maxbins_10_misprediction rate_end\": 0.9, \"bin_maxbins_10_taken rate\": 0.9, \"bin_maxbins_10_taken rate_end\": 1.0, \"sum_share of occurences\": 0.0014508544637988193}, {\"bin_maxbins_10_misprediction rate\": 0.30000000000000004, \"bin_maxbins_10_misprediction rate_end\": 0.4, \"bin_maxbins_10_taken rate\": 0.9, \"bin_maxbins_10_taken rate_end\": 1.0, \"sum_share of occurences\": 0.006836102529914456}, {\"bin_maxbins_10_misprediction rate\": 0.0, \"bin_maxbins_10_misprediction rate_end\": 0.1, \"bin_maxbins_10_taken rate\": 0.8, \"bin_maxbins_10_taken rate_end\": 0.9, \"sum_share of occurences\": 0.009180184368272785}, {\"bin_maxbins_10_misprediction rate\": 0.0, \"bin_maxbins_10_misprediction rate_end\": 0.1, \"bin_maxbins_10_taken rate\": 0.4, \"bin_maxbins_10_taken rate_end\": 0.5, \"sum_share of occurences\": 0.002809520882119321}, {\"bin_maxbins_10_misprediction rate\": 0.0, \"bin_maxbins_10_misprediction rate_end\": 0.1, \"bin_maxbins_10_taken rate\": 0.6000000000000001, \"bin_maxbins_10_taken rate_end\": 0.7000000000000001, \"sum_share of occurences\": 0.003657150432357554}, {\"bin_maxbins_10_misprediction rate\": 0.6000000000000001, \"bin_maxbins_10_misprediction rate_end\": 0.7000000000000001, \"bin_maxbins_10_taken rate\": 0.9, \"bin_maxbins_10_taken rate_end\": 1.0, \"sum_share of occurences\": 0.002143600769144286}, {\"bin_maxbins_10_misprediction rate\": 0.5, \"bin_maxbins_10_misprediction rate_end\": 0.6, \"bin_maxbins_10_taken rate\": 0.9, \"bin_maxbins_10_taken rate_end\": 1.0, \"sum_share of occurences\": 0.002583390793678658}, {\"bin_maxbins_10_misprediction rate\": 0.2, \"bin_maxbins_10_misprediction rate_end\": 0.30000000000000004, \"bin_maxbins_10_taken rate\": 0.9, \"bin_maxbins_10_taken rate_end\": 1.0, \"sum_share of occurences\": 0.010172373474777716}, {\"bin_maxbins_10_misprediction rate\": 0.5, \"bin_maxbins_10_misprediction rate_end\": 0.6, \"bin_maxbins_10_taken rate\": 0.5, \"bin_maxbins_10_taken rate_end\": 0.6, \"sum_share of occurences\": 8.095803571302152e-05}, {\"bin_maxbins_10_misprediction rate\": 0.0, \"bin_maxbins_10_misprediction rate_end\": 0.1, \"bin_maxbins_10_taken rate\": 0.1, \"bin_maxbins_10_taken rate_end\": 0.2, \"sum_share of occurences\": 0.0038253470752169835}, {\"bin_maxbins_10_misprediction rate\": 0.1, \"bin_maxbins_10_misprediction rate_end\": 0.2, \"bin_maxbins_10_taken rate\": 0.0, \"bin_maxbins_10_taken rate_end\": 0.1, \"sum_share of occurences\": 4.3653677030651475e-05}, {\"bin_maxbins_10_misprediction rate\": 0.4, \"bin_maxbins_10_misprediction rate_end\": 0.5, \"bin_maxbins_10_taken rate\": 0.4, \"bin_maxbins_10_taken rate_end\": 0.5, \"sum_share of occurences\": 0.0001274449592375351}, {\"bin_maxbins_10_misprediction rate\": 0.1, \"bin_maxbins_10_misprediction rate_end\": 0.2, \"bin_maxbins_10_taken rate\": 0.8, \"bin_maxbins_10_taken rate_end\": 0.9, \"sum_share of occurences\": 0.0035247134579943886}, {\"bin_maxbins_10_misprediction rate\": 0.0, \"bin_maxbins_10_misprediction rate_end\": 0.1, \"bin_maxbins_10_taken rate\": 0.2, \"bin_maxbins_10_taken rate_end\": 0.30000000000000004, \"sum_share of occurences\": 0.0076278073942052625}, {\"bin_maxbins_10_misprediction rate\": 0.1, \"bin_maxbins_10_misprediction rate_end\": 0.2, \"bin_maxbins_10_taken rate\": 0.1, \"bin_maxbins_10_taken rate_end\": 0.2, \"sum_share of occurences\": 0.010291643507736157}, {\"bin_maxbins_10_misprediction rate\": 0.1, \"bin_maxbins_10_misprediction rate_end\": 0.2, \"bin_maxbins_10_taken rate\": 0.2, \"bin_maxbins_10_taken rate_end\": 0.30000000000000004, \"sum_share of occurences\": 0.004292531905250688}, {\"bin_maxbins_10_misprediction rate\": 0.4, \"bin_maxbins_10_misprediction rate_end\": 0.5, \"bin_maxbins_10_taken rate\": 0.5, \"bin_maxbins_10_taken rate_end\": 0.6, \"sum_share of occurences\": 0.0023329034496963846}, {\"bin_maxbins_10_misprediction rate\": 0.7000000000000001, \"bin_maxbins_10_misprediction rate_end\": 0.8, \"bin_maxbins_10_taken rate\": 0.9, \"bin_maxbins_10_taken rate_end\": 1.0, \"sum_share of occurences\": 0.0009323624556319794}, {\"bin_maxbins_10_misprediction rate\": 0.30000000000000004, \"bin_maxbins_10_misprediction rate_end\": 0.4, \"bin_maxbins_10_taken rate\": 0.0, \"bin_maxbins_10_taken rate_end\": 0.1, \"sum_share of occurences\": 2.1523138270331173e-06}, {\"bin_maxbins_10_misprediction rate\": 0.2, \"bin_maxbins_10_misprediction rate_end\": 0.30000000000000004, \"bin_maxbins_10_taken rate\": 0.5, \"bin_maxbins_10_taken rate_end\": 0.6, \"sum_share of occurences\": 0.0028394573629639016}, {\"bin_maxbins_10_misprediction rate\": 0.30000000000000004, \"bin_maxbins_10_misprediction rate_end\": 0.4, \"bin_maxbins_10_taken rate\": 0.5, \"bin_maxbins_10_taken rate_end\": 0.6, \"sum_share of occurences\": 0.00031961856543370607}, {\"bin_maxbins_10_misprediction rate\": 0.30000000000000004, \"bin_maxbins_10_misprediction rate_end\": 0.4, \"bin_maxbins_10_taken rate\": 0.7000000000000001, \"bin_maxbins_10_taken rate_end\": 0.8, \"sum_share of occurences\": 0.013692320544173315}, {\"bin_maxbins_10_misprediction rate\": 0.7000000000000001, \"bin_maxbins_10_misprediction rate_end\": 0.8, \"bin_maxbins_10_taken rate\": 0.2, \"bin_maxbins_10_taken rate_end\": 0.30000000000000004, \"sum_share of occurences\": 7.03561268583477e-05}, {\"bin_maxbins_10_misprediction rate\": 0.5, \"bin_maxbins_10_misprediction rate_end\": 0.6, \"bin_maxbins_10_taken rate\": 0.4, \"bin_maxbins_10_taken rate_end\": 0.5, \"sum_share of occurences\": 5.248727699800682e-05}, {\"bin_maxbins_10_misprediction rate\": 0.8, \"bin_maxbins_10_misprediction rate_end\": 0.9, \"bin_maxbins_10_taken rate\": 0.6000000000000001, \"bin_maxbins_10_taken rate_end\": 0.7000000000000001, \"sum_share of occurences\": 4.944354696302271e-05}, {\"bin_maxbins_10_misprediction rate\": 0.1, \"bin_maxbins_10_misprediction rate_end\": 0.2, \"bin_maxbins_10_taken rate\": 0.7000000000000001, \"bin_maxbins_10_taken rate_end\": 0.8, \"sum_share of occurences\": 0.0009906574566591127}, {\"bin_maxbins_10_misprediction rate\": 0.0, \"bin_maxbins_10_misprediction rate_end\": 0.1, \"bin_maxbins_10_taken rate\": 0.30000000000000004, \"bin_maxbins_10_taken rate_end\": 0.4, \"sum_share of occurences\": 0.00628461954799354}, {\"bin_maxbins_10_misprediction rate\": 0.1, \"bin_maxbins_10_misprediction rate_end\": 0.2, \"bin_maxbins_10_taken rate\": 0.4, \"bin_maxbins_10_taken rate_end\": 0.5, \"sum_share of occurences\": 0.0008521719252126131}, {\"bin_maxbins_10_misprediction rate\": 0.4, \"bin_maxbins_10_misprediction rate_end\": 0.5, \"bin_maxbins_10_taken rate\": 0.6000000000000001, \"bin_maxbins_10_taken rate_end\": 0.7000000000000001, \"sum_share of occurences\": 5.4622881537756285e-05}, {\"bin_maxbins_10_misprediction rate\": 0.2, \"bin_maxbins_10_misprediction rate_end\": 0.30000000000000004, \"bin_maxbins_10_taken rate\": 0.2, \"bin_maxbins_10_taken rate_end\": 0.30000000000000004, \"sum_share of occurences\": 1.753789895801171e-05}, {\"bin_maxbins_10_misprediction rate\": 0.30000000000000004, \"bin_maxbins_10_misprediction rate_end\": 0.4, \"bin_maxbins_10_taken rate\": 0.6000000000000001, \"bin_maxbins_10_taken rate_end\": 0.7000000000000001, \"sum_share of occurences\": 0.009036585688191337}, {\"bin_maxbins_10_misprediction rate\": 0.6000000000000001, \"bin_maxbins_10_misprediction rate_end\": 0.7000000000000001, \"bin_maxbins_10_taken rate\": 0.6000000000000001, \"bin_maxbins_10_taken rate_end\": 0.7000000000000001, \"sum_share of occurences\": 0.0017535093633476249}, {\"bin_maxbins_10_misprediction rate\": 0.1, \"bin_maxbins_10_misprediction rate_end\": 0.2, \"bin_maxbins_10_taken rate\": 0.5, \"bin_maxbins_10_taken rate_end\": 0.6, \"sum_share of occurences\": 0.0023791999555810984}, {\"bin_maxbins_10_misprediction rate\": 0.4, \"bin_maxbins_10_misprediction rate_end\": 0.5, \"bin_maxbins_10_taken rate\": 0.30000000000000004, \"bin_maxbins_10_taken rate_end\": 0.4, \"sum_share of occurences\": 6.227050811413998e-07}, {\"bin_maxbins_10_misprediction rate\": 0.7000000000000001, \"bin_maxbins_10_misprediction rate_end\": 0.8, \"bin_maxbins_10_taken rate\": 0.5, \"bin_maxbins_10_taken rate_end\": 0.6, \"sum_share of occurences\": 6.377276194185333e-05}, {\"bin_maxbins_10_misprediction rate\": 0.2, \"bin_maxbins_10_misprediction rate_end\": 0.30000000000000004, \"bin_maxbins_10_taken rate\": 0.6000000000000001, \"bin_maxbins_10_taken rate_end\": 0.7000000000000001, \"sum_share of occurences\": 9.380384899595304e-05}, {\"bin_maxbins_10_misprediction rate\": 0.6000000000000001, \"bin_maxbins_10_misprediction rate_end\": 0.7000000000000001, \"bin_maxbins_10_taken rate\": 0.30000000000000004, \"bin_maxbins_10_taken rate_end\": 0.4, \"sum_share of occurences\": 0.001667854982898129}, {\"bin_maxbins_10_misprediction rate\": 0.9, \"bin_maxbins_10_misprediction rate_end\": 1.0, \"bin_maxbins_10_taken rate\": 0.0, \"bin_maxbins_10_taken rate_end\": 0.1, \"sum_share of occurences\": 0.002369541957301017}, {\"bin_maxbins_10_misprediction rate\": 0.1, \"bin_maxbins_10_misprediction rate_end\": 0.2, \"bin_maxbins_10_taken rate\": 0.30000000000000004, \"bin_maxbins_10_taken rate_end\": 0.4, \"sum_share of occurences\": 0.0016829015274816108}, {\"bin_maxbins_10_misprediction rate\": 0.6000000000000001, \"bin_maxbins_10_misprediction rate_end\": 0.7000000000000001, \"bin_maxbins_10_taken rate\": 0.8, \"bin_maxbins_10_taken rate_end\": 0.9, \"sum_share of occurences\": 3.6781478322256056e-05}, {\"bin_maxbins_10_misprediction rate\": 0.2, \"bin_maxbins_10_misprediction rate_end\": 0.30000000000000004, \"bin_maxbins_10_taken rate\": 0.30000000000000004, \"bin_maxbins_10_taken rate_end\": 0.4, \"sum_share of occurences\": 7.559918903367275e-05}, {\"bin_maxbins_10_misprediction rate\": 0.1, \"bin_maxbins_10_misprediction rate_end\": 0.2, \"bin_maxbins_10_taken rate\": 0.6000000000000001, \"bin_maxbins_10_taken rate_end\": 0.7000000000000001, \"sum_share of occurences\": 0.0003729046123600541}, {\"bin_maxbins_10_misprediction rate\": 0.2, \"bin_maxbins_10_misprediction rate_end\": 0.30000000000000004, \"bin_maxbins_10_taken rate\": 0.1, \"bin_maxbins_10_taken rate_end\": 0.2, \"sum_share of occurences\": 0.001107035421805474}, {\"bin_maxbins_10_misprediction rate\": 0.30000000000000004, \"bin_maxbins_10_misprediction rate_end\": 0.4, \"bin_maxbins_10_taken rate\": 0.8, \"bin_maxbins_10_taken rate_end\": 0.9, \"sum_share of occurences\": 2.3521581037666156e-05}, {\"bin_maxbins_10_misprediction rate\": 0.5, \"bin_maxbins_10_misprediction rate_end\": 0.6, \"bin_maxbins_10_taken rate\": 0.7000000000000001, \"bin_maxbins_10_taken rate_end\": 0.8, \"sum_share of occurences\": 2.970317950040285e-09}, {\"bin_maxbins_10_misprediction rate\": 0.30000000000000004, \"bin_maxbins_10_misprediction rate_end\": 0.4, \"bin_maxbins_10_taken rate\": 0.30000000000000004, \"bin_maxbins_10_taken rate_end\": 0.4, \"sum_share of occurences\": 1.176079051883308e-05}, {\"bin_maxbins_10_misprediction rate\": 0.5, \"bin_maxbins_10_misprediction rate_end\": 0.6, \"bin_maxbins_10_taken rate\": 0.8, \"bin_maxbins_10_taken rate_end\": 0.9, \"sum_share of occurences\": 3.3862795626840305e-05}, {\"bin_maxbins_10_misprediction rate\": 0.30000000000000004, \"bin_maxbins_10_misprediction rate_end\": 0.4, \"bin_maxbins_10_taken rate\": 0.4, \"bin_maxbins_10_taken rate_end\": 0.5, \"sum_share of occurences\": 0.005060876976382539}, {\"bin_maxbins_10_misprediction rate\": 0.30000000000000004, \"bin_maxbins_10_misprediction rate_end\": 0.4, \"bin_maxbins_10_taken rate\": 0.2, \"bin_maxbins_10_taken rate_end\": 0.30000000000000004, \"sum_share of occurences\": 0.00014463562011117126}, {\"bin_maxbins_10_misprediction rate\": 0.8, \"bin_maxbins_10_misprediction rate_end\": 0.9, \"bin_maxbins_10_taken rate\": 0.30000000000000004, \"bin_maxbins_10_taken rate_end\": 0.4, \"sum_share of occurences\": 4.048302638511196e-05}]}], \"signals\": [{\"name\": \"bin_maxbins_10_taken_rate_bins\", \"value\": {\"fields\": [\"taken rate\"], \"fname\": \"bin_taken rate\", \"start\": 0.0, \"step\": 0.1, \"stop\": 1.0}}, {\"name\": \"bin_maxbins_10_misprediction_rate_bins\", \"value\": {\"fields\": [\"misprediction rate\"], \"fname\": \"bin_misprediction rate\", \"start\": 0.0, \"step\": 0.1, \"stop\": 1.0}}], \"marks\": [{\"type\": \"rect\", \"name\": \"marks\", \"from\": {\"data\": \"source_0\"}, \"encode\": {\"update\": {\"x2\": {\"field\": \"bin_maxbins_10_taken rate\", \"scale\": \"x\", \"offset\": 0.5}, \"fill\": {\"field\": \"sum_share of occurences\", \"scale\": \"color\"}, \"x\": {\"field\": \"bin_maxbins_10_taken rate_end\", \"scale\": \"x\", \"offset\": 0.5}, \"y\": {\"field\": \"bin_maxbins_10_misprediction rate_end\", \"scale\": \"y\", \"offset\": 0.5}, \"description\": {\"signal\": \"\\\"taken rate (binned): \\\" + (!isValid(datum[\\\"bin_maxbins_10_taken rate\\\"]) || !isFinite(+datum[\\\"bin_maxbins_10_taken rate\\\"]) ? \\\"null\\\" : format(datum[\\\"bin_maxbins_10_taken rate\\\"], \\\".0%\\\") + \\\" \\u2013 \\\" + format(datum[\\\"bin_maxbins_10_taken rate_end\\\"], \\\".0%\\\")) + \\\"; misprediction rate (binned): \\\" + (!isValid(datum[\\\"bin_maxbins_10_misprediction rate\\\"]) || !isFinite(+datum[\\\"bin_maxbins_10_misprediction rate\\\"]) ? \\\"null\\\" : format(datum[\\\"bin_maxbins_10_misprediction rate\\\"], \\\".0%\\\") + \\\" \\u2013 \\\" + format(datum[\\\"bin_maxbins_10_misprediction rate_end\\\"], \\\".0%\\\")) + \\\"; Sum of share of occurences: \\\" + (format(datum[\\\"sum_share of occurences\\\"], \\\".0%\\\"))\"}, \"y2\": {\"field\": \"bin_maxbins_10_misprediction rate\", \"scale\": \"y\", \"offset\": 0.5}}}, \"style\": [\"rect\"]}], \"scales\": [{\"name\": \"x\", \"type\": \"linear\", \"domain\": {\"signal\": \"[bin_maxbins_10_taken_rate_bins.start, bin_maxbins_10_taken_rate_bins.stop]\"}, \"range\": [0, {\"signal\": \"width\"}], \"bins\": {\"signal\": \"bin_maxbins_10_taken_rate_bins\"}, \"zero\": false}, {\"name\": \"y\", \"type\": \"linear\", \"domain\": {\"signal\": \"[bin_maxbins_10_misprediction_rate_bins.start, bin_maxbins_10_misprediction_rate_bins.stop]\"}, \"range\": [{\"signal\": \"height\"}, 0], \"bins\": {\"signal\": \"bin_maxbins_10_misprediction_rate_bins\"}, \"zero\": false}, {\"name\": \"color\", \"type\": \"sqrt\", \"domain\": {\"data\": \"source_0\", \"field\": \"sum_share of occurences\"}, \"range\": {\"scheme\": \"blueorange\"}, \"interpolate\": \"hcl\", \"zero\": false}], \"axes\": [{\"scale\": \"x\", \"zindex\": 1, \"title\": \"taken rate (binned)\", \"format\": \".0%\", \"labelFlush\": true, \"tickCount\": {\"signal\": \"ceil(width/10)\"}, \"orient\": \"bottom\", \"grid\": false, \"labelOverlap\": true}, {\"scale\": \"y\", \"orient\": \"left\", \"format\": \".0%\", \"grid\": false, \"title\": \"misprediction rate (binned)\", \"labelOverlap\": true, \"zindex\": 1, \"tickCount\": {\"signal\": \"ceil(height/10)\"}}], \"style\": \"cell\", \"legends\": [{\"format\": \".0%\", \"title\": [\"share of all\", \"branches\"], \"fill\": \"color\", \"gradientLength\": {\"signal\": \"clamp(height, 64, 200)\"}}], \"width\": 400, \"padding\": 5, \"background\": \"white\", \"height\": 400}, {\"mode\": \"vega\"});\n",
       "</script>"
      ],
      "text/plain": [
       "alt.Chart(...)"
      ]
     },
     "execution_count": 35,
     "metadata": {},
     "output_type": "execute_result"
    }
   ],
   "source": [
    "ddf = df.lazy().groupby([\n",
    "    pl.col('inst_addr'),\n",
    "    pl.col('checkpoint'),\n",
    "    pl.col('simpoint_weight'),\n",
    "]).agg(\n",
    "    pl.col('taken').cast(pl.UInt32).sum(),\n",
    "    pl.col('mispredicted').cast(pl.UInt32).sum(),\n",
    "    pl.count()\n",
    ").groupby([\n",
    "    pl.col('inst_addr'),\n",
    "]).agg([\n",
    "    (pl.col('taken') * pl.col('simpoint_weight')).sum(),\n",
    "    (pl.col('mispredicted') * pl.col('simpoint_weight')).sum(),\n",
    "    (pl.col('count') * pl.col('simpoint_weight')).sum()\n",
    "]).with_columns([\n",
    "    (pl.col('taken') / pl.col('count')).alias('taken rate'),\n",
    "    (pl.col('mispredicted') / pl.col('count')).alias('misprediction rate'),\n",
    "    pl.col('count').sum().alias('total count'),\n",
    "    (pl.col('count') / pl.col('count').sum()).alias('share of occurences'),\n",
    "    (pl.col('mispredicted') / pl.col('mispredicted').sum()).alias('share of mispredictions')\n",
    "]).collect(streaming=True)\n",
    "\n",
    "p1 = alt.Chart(ddf).mark_rect().encode(\n",
    "    x=alt.X(\"taken rate:Q\", bin=True).axis(format='.0%'),\n",
    "    y=alt.Y(\"misprediction rate:Q\", bin=True).axis(format='.0%'),\n",
    "    color=alt.Color('count():Q',\n",
    "                    scale=alt.Scale(type='sqrt',scheme='blueorange'),\n",
    "                    legend=alt.Legend(title=['#branches']))\n",
    ").properties(\n",
    "    width=400,\n",
    "    height=400\n",
    ")\n",
    "\n",
    "p2 = alt.Chart(ddf).mark_rect().encode(\n",
    "    x=alt.X(\"taken rate:Q\", bin=True).axis(format='.0%'),\n",
    "    y=alt.Y(\"misprediction rate:Q\", bin=True).axis(format='.0%'),\n",
    "    color=alt.Color('sum(share of mispredictions):Q',\n",
    "                    scale=alt.Scale(type='sqrt', scheme='blueorange'),\n",
    "                    legend=alt.Legend(format=\".0%\",title=['share of all', 'mispredictions']))\n",
    ").properties(\n",
    "    width=400,\n",
    "    height=400\n",
    ")\n",
    "\n",
    "p3 = alt.Chart(ddf).mark_rect().encode(\n",
    "    x=alt.X(\"taken rate:Q\", bin=True).axis(format='.0%'),\n",
    "    y=alt.Y(\"misprediction rate:Q\", bin=True).axis(format='.0%'),\n",
    "    color=alt.Color('sum(share of occurences):Q',\n",
    "                    scale=alt.Scale(type='sqrt', scheme='blueorange'),\n",
    "                    legend=alt.Legend(format=\".0%\",title=['share of all', 'branches']))\n",
    ").properties(\n",
    "    width=400,\n",
    "    height=400\n",
    ")\n",
    "\n",
    "p3"
   ]
  },
  {
   "cell_type": "code",
   "execution_count": 39,
   "id": "bd412152",
   "metadata": {},
   "outputs": [
    {
     "data": {
      "text/html": [
       "<div><style>\n",
       ".dataframe > thead > tr > th,\n",
       ".dataframe > tbody > tr > td {\n",
       "  text-align: right;\n",
       "}\n",
       "</style>\n",
       "<small>shape: (1, 1)</small><table border=\"1\" class=\"dataframe\"><thead><tr><th>literal</th></tr><tr><td>f64</td></tr></thead><tbody><tr><td>2.440653</td></tr></tbody></table></div>"
      ],
      "text/plain": [
       "shape: (1, 1)\n",
       "┌──────────┐\n",
       "│ literal  │\n",
       "│ ---      │\n",
       "│ f64      │\n",
       "╞══════════╡\n",
       "│ 2.440653 │\n",
       "└──────────┘"
      ]
     },
     "execution_count": 39,
     "metadata": {},
     "output_type": "execute_result"
    }
   ],
   "source": [
    "df.lazy().groupby([\n",
    "    pl.col('inst_addr'),\n",
    "    pl.col('alloc_context'),\n",
    "    pl.col('checkpoint'),\n",
    "    pl.col('simpoint_weight'),\n",
    "    pl.col('virtual'),\n",
    "    pl.col('return')\n",
    "]).agg(\n",
    "    pl.col('taken').cast(pl.UInt32).sum(),\n",
    "    pl.col('mispredicted').cast(pl.UInt32).sum(),\n",
    "    pl.count()\n",
    ").groupby([\n",
    "    pl.col('inst_addr'),\n",
    "    pl.col('alloc_context'),\n",
    "    pl.col('virtual'),\n",
    "    pl.col('return')\n",
    "]).agg([\n",
    "    (pl.col('taken') * pl.col('simpoint_weight')).sum(),\n",
    "    (pl.col('mispredicted') * pl.col('simpoint_weight')).sum(),\n",
    "    (pl.col('count') * pl.col('simpoint_weight')).sum()\n",
    "]).with_columns([\n",
    "    (pl.col('taken') / pl.col('count')).alias('taken rate'),\n",
    "    (pl.col('mispredicted') / pl.col('count')).alias('misprediction rate'),\n",
    "    pl.col('count').sum().alias('total count')\n",
    "]).filter(\n",
    "    (pl.min(pl.col('taken rate'), 1 - pl.col('taken rate')) < pl.col('misprediction rate')) & \n",
    "    (pl.col('alloc_context') != 0) # & pl.col('virtual') & ~pl.col('return')\n",
    ").select([\n",
    "    100 * ((pl.col('misprediction rate') - pl.min(pl.col('taken rate'), 1 - pl.col('taken rate'))) * pl.col('count') / pl.col('total count')).sum(),\n",
    "]).collect(streaming=True)\n"
   ]
  },
  {
   "cell_type": "code",
   "execution_count": null,
   "id": "8987b461",
   "metadata": {},
   "outputs": [],
   "source": []
  }
 ],
 "metadata": {
  "kernelspec": {
   "display_name": "Python 3 (ipykernel)",
   "language": "python",
   "name": "python3"
  },
  "language_info": {
   "codemirror_mode": {
    "name": "ipython",
    "version": 3
   },
   "file_extension": ".py",
   "mimetype": "text/x-python",
   "name": "python",
   "nbconvert_exporter": "python",
   "pygments_lexer": "ipython3",
   "version": "3.8.10"
  }
 },
 "nbformat": 4,
 "nbformat_minor": 5
}
